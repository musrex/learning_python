{
 "cells": [
  {
   "cell_type": "code",
   "execution_count": 20,
   "metadata": {},
   "outputs": [
    {
     "name": "stdout",
     "output_type": "stream",
     "text": [
      "\n",
      "I'M GONNA MARRY CORDELIA!\n",
      "\n",
      "DEAR CORDELIA,\n",
      "I THINK YOU'RE PRETTY CUTE. I LOVE THE WAY YOU LAUGH AND ASK QUESTIONS.\n",
      "MY FAVORITE COLOR IS THE COLOR OF YOUR EYES. I LOVE THE WAY YOUR HAIR\n",
      "BRUSHES AGAINST YOUR FACE. I CAN'T WAIT TO MARRY YOU. LETS JUST ELOPE.\n",
      "NO, AT THIS POINT EVERYONE WOULD BE UPSET. WE SHOULD DEFINTELY HAVE A\n",
      "BIG WEDDING. MAYBE AT THE MET. YEAH, LETS DO THAT. I THINK YOUR DAD\n",
      "MIGHT BE ABLE TO AFFORD IT. JUST KIDDING LETS JUST DO THE CLOSEST STATE\n",
      "PARK. THAT WOULD BE REALLY CUTE.\n",
      "\n",
      "WITH LOVE,\n",
      "LEANDRO\n"
     ]
    }
   ],
   "source": [
    "# fhand = open('ilovecordelia.txt')\n",
    "# for line in fhand:\n",
    "#     line = line.rstrip()\n",
    "#     line = line.upper()\n",
    "       \n",
    "#     print(line)\n",
    "\n",
    "fname = input('Enter the file name: ')\n",
    "try:\n",
    "    fhand = open(fname, 'r')\n",
    "except: \n",
    "    print('File cannot be opened:', fname)\n",
    "    quit()\n",
    "\n",
    "for line in fhand:\n",
    "    line = line.rstrip()\n",
    "    \n",
    "    print(line.upper())"
   ]
  }
 ],
 "metadata": {
  "interpreter": {
   "hash": "97cc609b13305c559618ec78a438abc56230b9381f827f22d070313b9a1f3777"
  },
  "kernelspec": {
   "display_name": "Python 3.10.0 64-bit",
   "language": "python",
   "name": "python3"
  },
  "language_info": {
   "codemirror_mode": {
    "name": "ipython",
    "version": 3
   },
   "file_extension": ".py",
   "mimetype": "text/x-python",
   "name": "python",
   "nbconvert_exporter": "python",
   "pygments_lexer": "ipython3",
   "version": "3.10.0"
  },
  "orig_nbformat": 4
 },
 "nbformat": 4,
 "nbformat_minor": 2
}
